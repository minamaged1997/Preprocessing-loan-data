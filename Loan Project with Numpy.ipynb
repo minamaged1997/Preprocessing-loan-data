{
 "cells": [
  {
   "cell_type": "markdown",
   "id": "daaf8d20",
   "metadata": {},
   "source": [
    " I am using loan Data ( Dummy Data ) in this project. I am using Numy libirary in Python to clean and preprocess it so that its more applicable for further invistigation using machine learning models.\n",
    "    \n",
    "Data used in this project : https://drive.google.com/file/d/12uCRK5bLa70rbSYcogaGypbsyz7u5DMB/view?usp=sharing\n",
    "<hr style=\"border:5px solid #108999\"> </hr>\n",
    "\n",
    "# importing Data"
   ]
  },
  {
   "cell_type": "code",
   "execution_count": 521,
   "id": "0f2c31ef",
   "metadata": {},
   "outputs": [],
   "source": [
    "import numpy as np"
   ]
  },
  {
   "cell_type": "code",
   "execution_count": 522,
   "id": "dc40f559",
   "metadata": {},
   "outputs": [],
   "source": [
    "np.set_printoptions(suppress=True)"
   ]
  },
  {
   "cell_type": "markdown",
   "id": "926f818e",
   "metadata": {},
   "source": [
    "The first step is to insert the CSV file and specify the delimiter ';'"
   ]
  },
  {
   "cell_type": "code",
   "execution_count": 523,
   "id": "c3067928",
   "metadata": {},
   "outputs": [
    {
     "data": {
      "text/plain": [
       "array([[        nan,         nan,         nan, ...,         nan,\n",
       "                nan,         nan],\n",
       "       [48010226.  ,         nan,    35000.  , ...,         nan,\n",
       "                nan,     9452.96],\n",
       "       [57693261.  ,         nan,    30000.  , ...,         nan,\n",
       "                nan,     4679.7 ],\n",
       "       ...,\n",
       "       [50415990.  ,         nan,    10000.  , ...,         nan,\n",
       "                nan,     2185.64],\n",
       "       [46154151.  ,         nan,         nan, ...,         nan,\n",
       "                nan,     3199.4 ],\n",
       "       [66055249.  ,         nan,    10000.  , ...,         nan,\n",
       "                nan,      301.9 ]])"
      ]
     },
     "execution_count": 523,
     "metadata": {},
     "output_type": "execute_result"
    }
   ],
   "source": [
    "loan_data=np.genfromtxt('D:\\Data Processing with Numpy\\\\loan-data.csv', delimiter=';')\n",
    "loan_data"
   ]
  },
  {
   "cell_type": "markdown",
   "id": "a1c6dff9",
   "metadata": {},
   "source": [
    "here we can see that there are alot of nan values which indicates that there are alot of non numeric values \n",
    "so the first step is to know the columns that entirely hold strings and we can do that using 'nanmean()' function"
   ]
  },
  {
   "cell_type": "code",
   "execution_count": 524,
   "id": "ca2547aa",
   "metadata": {},
   "outputs": [
    {
     "name": "stderr",
     "output_type": "stream",
     "text": [
      "C:\\Users\\hp\\AppData\\Local\\Temp\\ipykernel_16308\\3421128142.py:1: RuntimeWarning: Mean of empty slice\n",
      "  temp=np.nanmean(loan_data, axis=0)\n"
     ]
    },
    {
     "data": {
      "text/plain": [
       "array([54015809.1922    ,               nan,    15273.46315789,\n",
       "                     nan,    15311.04210526,               nan,\n",
       "             16.61729479,      440.92217918,               nan,\n",
       "                     nan,               nan,               nan,\n",
       "                     nan,     3143.85094094])"
      ]
     },
     "execution_count": 524,
     "metadata": {},
     "output_type": "execute_result"
    }
   ],
   "source": [
    "temp=np.nanmean(loan_data, axis=0)\n",
    "temp"
   ]
  },
  {
   "cell_type": "markdown",
   "id": "a65c9bcb",
   "metadata": {},
   "source": [
    "using the next two code lines we can separate the numeric and non-numeric columns indixes in different two arrays (string_columns, numeric_columns)"
   ]
  },
  {
   "cell_type": "code",
   "execution_count": 525,
   "id": "96d71ec0",
   "metadata": {},
   "outputs": [
    {
     "data": {
      "text/plain": [
       "array([ 1,  3,  5,  8,  9, 10, 11, 12], dtype=int64)"
      ]
     },
     "execution_count": 525,
     "metadata": {},
     "output_type": "execute_result"
    }
   ],
   "source": [
    "string_columns=np.argwhere(np.isnan(temp)).squeeze()\n",
    "string_columns"
   ]
  },
  {
   "cell_type": "code",
   "execution_count": 526,
   "id": "26634336",
   "metadata": {},
   "outputs": [
    {
     "data": {
      "text/plain": [
       "array([ 0,  2,  4,  6,  7, 13], dtype=int64)"
      ]
     },
     "execution_count": 526,
     "metadata": {},
     "output_type": "execute_result"
    }
   ],
   "source": [
    "numeric_columns=np.argwhere(np.isnan(temp)==False).squeeze()\n",
    "numeric_columns"
   ]
  },
  {
   "cell_type": "markdown",
   "id": "c85b2637",
   "metadata": {},
   "source": [
    "now, we can import the CSV file into four different numpy arrays header numeric, header string, data numerica and data string\n"
   ]
  },
  {
   "cell_type": "code",
   "execution_count": 527,
   "id": "c14bdde6",
   "metadata": {},
   "outputs": [
    {
     "data": {
      "text/plain": [
       "array([[48010226.  ,    35000.  ,    35000.  ,       13.33,     1184.86,\n",
       "            9452.96],\n",
       "       [57693261.  ,    30000.  ,    30000.  ,         nan,      938.57,\n",
       "            4679.7 ],\n",
       "       [59432726.  ,    15000.  ,    15000.  ,         nan,      494.86,\n",
       "            1969.83],\n",
       "       ...,\n",
       "       [50415990.  ,    10000.  ,    10000.  ,         nan,         nan,\n",
       "            2185.64],\n",
       "       [46154151.  ,         nan,    10000.  ,       16.55,      354.3 ,\n",
       "            3199.4 ],\n",
       "       [66055249.  ,    10000.  ,    10000.  ,         nan,      309.97,\n",
       "             301.9 ]])"
      ]
     },
     "execution_count": 527,
     "metadata": {},
     "output_type": "execute_result"
    }
   ],
   "source": [
    "loan_data_numeric=np.genfromtxt('D:\\Data Processing with Numpy\\\\loan-data.csv',\n",
    "                                delimiter=';',\n",
    "                               usecols=numeric_columns,\n",
    "                               skip_header=1)\n",
    "loan_data_numeric"
   ]
  },
  {
   "cell_type": "code",
   "execution_count": 528,
   "id": "7ff61a3d",
   "metadata": {},
   "outputs": [
    {
     "data": {
      "text/plain": [
       "array([['May-15', 'Current', ' 36 months', ..., 'Verified',\n",
       "        'https://www.lendingclub.com/browse/loanDetail.action?loan_id=48010226',\n",
       "        'CA'],\n",
       "       ['', 'Current', ' 36 months', ..., 'Source Verified',\n",
       "        'https://www.lendingclub.com/browse/loanDetail.action?loan_id=57693261',\n",
       "        'NY'],\n",
       "       ['Sep-15', 'Current', ' 36 months', ..., 'Verified',\n",
       "        'https://www.lendingclub.com/browse/loanDetail.action?loan_id=59432726',\n",
       "        'PA'],\n",
       "       ...,\n",
       "       ['Jun-15', 'Current', ' 36 months', ..., 'Source Verified',\n",
       "        'https://www.lendingclub.com/browse/loanDetail.action?loan_id=50415990',\n",
       "        'CA'],\n",
       "       ['Apr-15', 'Current', ' 36 months', ..., 'Source Verified',\n",
       "        'https://www.lendingclub.com/browse/loanDetail.action?loan_id=46154151',\n",
       "        'OH'],\n",
       "       ['Dec-15', 'Current', ' 36 months', ..., '',\n",
       "        'https://www.lendingclub.com/browse/loanDetail.action?loan_id=66055249',\n",
       "        'IL']], dtype='<U69')"
      ]
     },
     "execution_count": 528,
     "metadata": {},
     "output_type": "execute_result"
    }
   ],
   "source": [
    "loan_data_string=np.genfromtxt('D:\\Data Processing with Numpy\\\\loan-data.csv',\n",
    "                                delimiter=';',\n",
    "                               usecols=string_columns,\n",
    "                               skip_header=1,\n",
    "                               dtype=str)\n",
    "loan_data_string"
   ]
  },
  {
   "cell_type": "code",
   "execution_count": 529,
   "id": "9c7e4179",
   "metadata": {},
   "outputs": [
    {
     "data": {
      "text/plain": [
       "array(['issue_d', 'loan_status', 'term', 'grade', 'sub_grade',\n",
       "       'verification_status', 'url', 'addr_state'], dtype='<U19')"
      ]
     },
     "execution_count": 529,
     "metadata": {},
     "output_type": "execute_result"
    }
   ],
   "source": [
    "loan_head_string=np.genfromtxt('D:\\Data Processing with Numpy\\\\loan-data.csv',\n",
    "                                delimiter=';',\n",
    "                               usecols=string_columns,\n",
    "                               skip_footer=loan_data_string.shape[0],\n",
    "                               dtype=str)\n",
    "loan_head_string"
   ]
  },
  {
   "cell_type": "code",
   "execution_count": 530,
   "id": "51640c07",
   "metadata": {},
   "outputs": [
    {
     "data": {
      "text/plain": [
       "array(['id', 'loan_amnt', 'funded_amnt', 'int_rate', 'installment',\n",
       "       'total_pymnt'], dtype='<U11')"
      ]
     },
     "execution_count": 530,
     "metadata": {},
     "output_type": "execute_result"
    }
   ],
   "source": [
    "loan_head_numeric=np.genfromtxt('D:\\Data Processing with Numpy\\\\loan-data.csv',\n",
    "                                delimiter=';',\n",
    "                               usecols=numeric_columns,\n",
    "                               skip_footer=loan_data_string.shape[0],\n",
    "                               dtype=str)\n",
    "loan_head_numeric\n"
   ]
  },
  {
   "cell_type": "markdown",
   "id": "7ae7825e",
   "metadata": {},
   "source": [
    "<hr style=\"border:5px solid #108999\"> </hr> \n",
    "\n",
    "# String data Processing\n",
    "\n",
    "After separating our data without the headers into 2 arrays we will start working on them one at a time let's start with the string data which consists of columns: issue_d, loan_status, term, grade, sub_grade, verification_status, url and addr_state"
   ]
  },
  {
   "cell_type": "code",
   "execution_count": 531,
   "id": "8d83b454",
   "metadata": {},
   "outputs": [
    {
     "data": {
      "text/plain": [
       "array(['', 'Apr-15', 'Aug-15', 'Dec-15', 'Feb-15', 'Jan-15', 'Jul-15',\n",
       "       'Jun-15', 'Mar-15', 'May-15', 'Nov-15', 'Oct-15', 'Sep-15'],\n",
       "      dtype='<U69')"
      ]
     },
     "execution_count": 531,
     "metadata": {},
     "output_type": "execute_result"
    }
   ],
   "source": [
    "np.unique(loan_data_string[:,0])"
   ]
  },
  {
   "cell_type": "markdown",
   "id": "f0b44180",
   "metadata": {},
   "source": [
    "### Issue_date\n",
    "we checked the unique values of the first column in the string data array. as it's obvious, we can see that dates consists of days and months only also, all loans dates are in the same day but different month. so there is no use of mintioning the day\n",
    "and we can also replace the month name with its numerical value (1-12) and the missing values with 0"
   ]
  },
  {
   "cell_type": "code",
   "execution_count": 532,
   "id": "dd98620f",
   "metadata": {},
   "outputs": [
    {
     "data": {
      "text/plain": [
       "array(['May', '', 'Sep', ..., 'Jun', 'Apr', 'Dec'], dtype='<U69')"
      ]
     },
     "execution_count": 532,
     "metadata": {},
     "output_type": "execute_result"
    }
   ],
   "source": [
    "loan_data_string[:,0]=np.chararray.strip(loan_data_string[:,0],'-15')\n",
    "loan_data_string[:,0]"
   ]
  },
  {
   "cell_type": "code",
   "execution_count": 533,
   "id": "553d90ed",
   "metadata": {},
   "outputs": [],
   "source": [
    "months = np.array(['', 'Jan', 'Feb', 'Mar', 'Apr', 'May', 'Jun', 'Jul', 'Aug', 'Sep', 'Oct', 'Nov', 'Dec'])"
   ]
  },
  {
   "cell_type": "code",
   "execution_count": 534,
   "id": "c220522a",
   "metadata": {},
   "outputs": [
    {
     "data": {
      "text/plain": [
       "array(['0', '1', '10', '11', '12', '2', '3', '4', '5', '6', '7', '8', '9'],\n",
       "      dtype='<U69')"
      ]
     },
     "execution_count": 534,
     "metadata": {},
     "output_type": "execute_result"
    }
   ],
   "source": [
    "for i in range(months.shape[0]):\n",
    "    loan_data_string[:,0]=np.where(loan_data_string[:,0]==months[i],\n",
    "                                  i,\n",
    "                                  loan_data_string[:,0])\n",
    "np.unique(loan_data_string[:,0])"
   ]
  },
  {
   "cell_type": "markdown",
   "id": "0bc4694a",
   "metadata": {},
   "source": [
    "### loan_status\n",
    "we checked the unique values of the second column 'Loan_statuts' in the string data array. according to the business model we should catigorize these values into two groups (good '1', bad '0')\n",
    "\n",
    "ps: the Empty values ' ' means there were missing values in the CSV file so we assign them according to the worest case scenario"
   ]
  },
  {
   "cell_type": "code",
   "execution_count": 535,
   "id": "1a0dc038",
   "metadata": {},
   "outputs": [
    {
     "data": {
      "text/plain": [
       "array(['', 'Charged Off', 'Current', 'Default', 'Fully Paid',\n",
       "       'In Grace Period', 'Issued', 'Late (16-30 days)',\n",
       "       'Late (31-120 days)'], dtype='<U69')"
      ]
     },
     "execution_count": 535,
     "metadata": {},
     "output_type": "execute_result"
    }
   ],
   "source": [
    "np.unique(loan_data_string[:,1])"
   ]
  },
  {
   "cell_type": "code",
   "execution_count": 536,
   "id": "da821ecc",
   "metadata": {},
   "outputs": [],
   "source": [
    "status_bad = np.array(['','Charged Off','Default','Late (31-120 days)'])"
   ]
  },
  {
   "cell_type": "code",
   "execution_count": 537,
   "id": "51474cb8",
   "metadata": {},
   "outputs": [
    {
     "data": {
      "text/plain": [
       "array(['0', '1'], dtype='<U69')"
      ]
     },
     "execution_count": 537,
     "metadata": {},
     "output_type": "execute_result"
    }
   ],
   "source": [
    "loan_data_string[:,1]= np.where(np.isin(loan_data_string[:,1], status_bad),0,1)\n",
    "np.unique(loan_data_string[:,1])"
   ]
  },
  {
   "cell_type": "markdown",
   "id": "ee726ffa",
   "metadata": {},
   "source": [
    "### Term\n",
    "lets move to the third column 'term' which contains three unique values ('', '36 months','60 months').\n",
    "we will replace '36 months' with '36' , '60 months' with '60' and ' ' with '36' as it's the worest case scenario"
   ]
  },
  {
   "cell_type": "code",
   "execution_count": 538,
   "id": "c72be0ca",
   "metadata": {},
   "outputs": [
    {
     "data": {
      "text/plain": [
       "array(['', ' 36 months', ' 60 months'], dtype='<U69')"
      ]
     },
     "execution_count": 538,
     "metadata": {},
     "output_type": "execute_result"
    }
   ],
   "source": [
    "np.unique(loan_data_string[:,2])"
   ]
  },
  {
   "cell_type": "code",
   "execution_count": 539,
   "id": "bad62ade",
   "metadata": {},
   "outputs": [
    {
     "data": {
      "text/plain": [
       "array(['', '36', '60'], dtype='<U69')"
      ]
     },
     "execution_count": 539,
     "metadata": {},
     "output_type": "execute_result"
    }
   ],
   "source": [
    "loan_data_string[:,2]=np.chararray.strip(loan_data_string[:,2], ' months')\n",
    "np.unique(loan_data_string[:,2])"
   ]
  },
  {
   "cell_type": "code",
   "execution_count": 540,
   "id": "1dcca28a",
   "metadata": {},
   "outputs": [
    {
     "data": {
      "text/plain": [
       "array(['36', '60'], dtype='<U69')"
      ]
     },
     "execution_count": 540,
     "metadata": {},
     "output_type": "execute_result"
    }
   ],
   "source": [
    "loan_data_string[:,2]=np.where(loan_data_string[:,2]=='',\n",
    "                              60,\n",
    "                              loan_data_string[:,2])\n",
    "np.unique(loan_data_string[:,2])"
   ]
  },
  {
   "cell_type": "markdown",
   "id": "6344f6c8",
   "metadata": {},
   "source": [
    "### grade and sub_grade\n",
    "in the next two columns (grade column, Sub-grade column),<br>\n",
    "the unique values for the grade column are (' ', 'A', 'B', 'C', 'D', 'E', 'F', 'G').<br>\n",
    "and for the sub grade are the same like the grade but a numeric value from 1-5 is added after each grade.<br> so we can<br>\n",
    "1- Replace the missing values of sub-grade with the the least level of grade if found for example if the grade is 'B' so the missing sub grade is 'B5'. <br>2- delete the grade column as all its info is duplicated in sub-grade.<br>3- replace the missing subgrades with a newly added value 'H1'<br>4- replace every level of sub-grade with a numeric value"
   ]
  },
  {
   "cell_type": "code",
   "execution_count": 541,
   "id": "5819647f",
   "metadata": {},
   "outputs": [
    {
     "data": {
      "text/plain": [
       "(array(['', 'A1', 'A2', 'A3', 'A4', 'A5', 'B1', 'B2', 'B3', 'B4', 'B5',\n",
       "        'C1', 'C2', 'C3', 'C4', 'C5', 'D1', 'D2', 'D3', 'D4', 'D5', 'E1',\n",
       "        'E2', 'E3', 'E4', 'E5', 'F1', 'F2', 'F3', 'F4', 'F5', 'G1', 'G2',\n",
       "        'G3', 'G4', 'G5'], dtype='<U69'),\n",
       " array([514, 285, 278, 239, 323, 502, 509, 517, 530, 553, 494, 629, 567,\n",
       "        586, 564, 423, 391, 267, 250, 255, 223, 235, 162, 171, 139, 114,\n",
       "         94,  52,  34,  43,  16,  19,  10,   3,   7,   2], dtype=int64))"
      ]
     },
     "execution_count": 541,
     "metadata": {},
     "output_type": "execute_result"
    }
   ],
   "source": [
    "np.unique(loan_data_string[:,4], return_counts=True)"
   ]
  },
  {
   "cell_type": "code",
   "execution_count": 542,
   "id": "90565d49",
   "metadata": {},
   "outputs": [
    {
     "data": {
      "text/plain": [
       "(array(['', 'A1', 'A2', 'A3', 'A4', 'A5', 'B1', 'B2', 'B3', 'B4', 'B5',\n",
       "        'C1', 'C2', 'C3', 'C4', 'C5', 'D1', 'D2', 'D3', 'D4', 'D5', 'E1',\n",
       "        'E2', 'E3', 'E4', 'E5', 'F1', 'F2', 'F3', 'F4', 'F5', 'G1', 'G2',\n",
       "        'G3', 'G4', 'G5'], dtype='<U69'),\n",
       " array([  9, 285, 278, 239, 323, 592, 509, 517, 530, 553, 633, 629, 567,\n",
       "        586, 564, 577, 391, 267, 250, 255, 288, 235, 162, 171, 139, 160,\n",
       "         94,  52,  34,  43,  24,  19,  10,   3,   7,   5], dtype=int64))"
      ]
     },
     "execution_count": 542,
     "metadata": {},
     "output_type": "execute_result"
    }
   ],
   "source": [
    "# 1- Replace the missing values of sub-grade with the the least level of grade if found \n",
    "#    for example if the grade is 'B' so the missing sub grade is 'B5'.\n",
    "\n",
    "for i in range(loan_data_string.shape[0]):\n",
    "    loan_data_string[i,4]=np.where((loan_data_string[i,4]=='')&(loan_data_string[i,3]!=''),\n",
    "                                  loan_data_string[i,3]+'5',\n",
    "                                  loan_data_string[i,4])\n",
    "    \n",
    "np.unique(loan_data_string[:,4], return_counts=True)"
   ]
  },
  {
   "cell_type": "code",
   "execution_count": 543,
   "id": "46ec362b",
   "metadata": {},
   "outputs": [
    {
     "data": {
      "text/plain": [
       "'sub_grade'"
      ]
     },
     "execution_count": 543,
     "metadata": {},
     "output_type": "execute_result"
    }
   ],
   "source": [
    "# 2- delete the grade column as all its info is duplicated in sub-grade.\n",
    "\n",
    "loan_data_string=np.delete(loan_data_string, 3, axis=1)\n",
    "loan_data_string[:,3]\n",
    "loan_head_string=np.delete(loan_head_string, 3)\n",
    "loan_head_string[3]"
   ]
  },
  {
   "cell_type": "code",
   "execution_count": 544,
   "id": "710b0f4b",
   "metadata": {},
   "outputs": [
    {
     "data": {
      "text/plain": [
       "(array(['A1', 'A2', 'A3', 'A4', 'A5', 'B1', 'B2', 'B3', 'B4', 'B5', 'C1',\n",
       "        'C2', 'C3', 'C4', 'C5', 'D1', 'D2', 'D3', 'D4', 'D5', 'E1', 'E2',\n",
       "        'E3', 'E4', 'E5', 'F1', 'F2', 'F3', 'F4', 'F5', 'G1', 'G2', 'G3',\n",
       "        'G4', 'G5', 'H1'], dtype='<U69'),\n",
       " array([285, 278, 239, 323, 592, 509, 517, 530, 553, 633, 629, 567, 586,\n",
       "        564, 577, 391, 267, 250, 255, 288, 235, 162, 171, 139, 160,  94,\n",
       "         52,  34,  43,  24,  19,  10,   3,   7,   5,   9], dtype=int64))"
      ]
     },
     "execution_count": 544,
     "metadata": {},
     "output_type": "execute_result"
    }
   ],
   "source": [
    "# 3- replace the missing subgrades with a newly added value 'H1'\n",
    "\n",
    "loan_data_string[:,3]=np.where(loan_data_string[:,3]=='',\n",
    "                              'H1',\n",
    "                              loan_data_string[:,3])\n",
    "\n",
    "np.unique(loan_data_string[:,3], return_counts=True)"
   ]
  },
  {
   "cell_type": "code",
   "execution_count": 545,
   "id": "61de13b9",
   "metadata": {},
   "outputs": [
    {
     "data": {
      "text/plain": [
       "{'A1': 1,\n",
       " 'A2': 2,\n",
       " 'A3': 3,\n",
       " 'A4': 4,\n",
       " 'A5': 5,\n",
       " 'B1': 6,\n",
       " 'B2': 7,\n",
       " 'B3': 8,\n",
       " 'B4': 9,\n",
       " 'B5': 10,\n",
       " 'C1': 11,\n",
       " 'C2': 12,\n",
       " 'C3': 13,\n",
       " 'C4': 14,\n",
       " 'C5': 15,\n",
       " 'D1': 16,\n",
       " 'D2': 17,\n",
       " 'D3': 18,\n",
       " 'D4': 19,\n",
       " 'D5': 20,\n",
       " 'E1': 21,\n",
       " 'E2': 22,\n",
       " 'E3': 23,\n",
       " 'E4': 24,\n",
       " 'E5': 25,\n",
       " 'F1': 26,\n",
       " 'F2': 27,\n",
       " 'F3': 28,\n",
       " 'F4': 29,\n",
       " 'F5': 30,\n",
       " 'G1': 31,\n",
       " 'G2': 32,\n",
       " 'G3': 33,\n",
       " 'G4': 34,\n",
       " 'G5': 35,\n",
       " 'H1': 36}"
      ]
     },
     "execution_count": 545,
     "metadata": {},
     "output_type": "execute_result"
    }
   ],
   "source": [
    "# 4- replace every level of sub-grade with a numeric value\n",
    "\n",
    "keys= list(np.unique(loan_data_string[:,3]))\n",
    "values= list(range(1,np.unique(loan_data_string[:,3]).shape[0]+1))\n",
    "temp_dict=dict(zip(keys, values))\n",
    "temp_dict"
   ]
  },
  {
   "cell_type": "code",
   "execution_count": 546,
   "id": "caee0bec",
   "metadata": {},
   "outputs": [
    {
     "data": {
      "text/plain": [
       "array(['1', '10', '11', '12', '13', '14', '15', '16', '17', '18', '19',\n",
       "       '2', '20', '21', '22', '23', '24', '25', '26', '27', '28', '29',\n",
       "       '3', '30', '31', '32', '33', '34', '35', '36', '4', '5', '6', '7',\n",
       "       '8', '9'], dtype='<U69')"
      ]
     },
     "execution_count": 546,
     "metadata": {},
     "output_type": "execute_result"
    }
   ],
   "source": [
    "for i in temp_dict.keys():\n",
    "    loan_data_string[:,3]=np.where(loan_data_string[:,3]==i,\n",
    "                                  temp_dict[i],\n",
    "                                  loan_data_string[:,3])\n",
    "np.unique(loan_data_string[:,3])"
   ]
  },
  {
   "cell_type": "markdown",
   "id": "782a1033",
   "metadata": {},
   "source": [
    "### Verification Status"
   ]
  },
  {
   "cell_type": "markdown",
   "id": "a75eb12d",
   "metadata": {},
   "source": [
    "for column 'verification_status', the unique values in this column are (' ',Not Verified, Sourece Verified, Verified)\n",
    "so we can process these data in the following steps:<br>1- replace values (' ',Not Verified) with 0<br>2- replace (Sourece Verified, Verified) with 1"
   ]
  },
  {
   "cell_type": "code",
   "execution_count": 547,
   "id": "cded5be2",
   "metadata": {
    "scrolled": true
   },
   "outputs": [
    {
     "data": {
      "text/plain": [
       "array(['', 'Not Verified', 'Source Verified', 'Verified'], dtype='<U69')"
      ]
     },
     "execution_count": 547,
     "metadata": {},
     "output_type": "execute_result"
    }
   ],
   "source": [
    "np.unique(loan_data_string[:,4])"
   ]
  },
  {
   "cell_type": "code",
   "execution_count": 548,
   "id": "7733f485",
   "metadata": {},
   "outputs": [
    {
     "data": {
      "text/plain": [
       "array(['0', '1'], dtype='<U69')"
      ]
     },
     "execution_count": 548,
     "metadata": {},
     "output_type": "execute_result"
    }
   ],
   "source": [
    "loan_data_string[:,4]=np.where((loan_data_string[:,4]=='')|(loan_data_string[:,4]=='Not Verified'),\n",
    "                              0,1)\n",
    "np.unique(loan_data_string[:,4])"
   ]
  },
  {
   "cell_type": "markdown",
   "id": "35bbccbb",
   "metadata": {},
   "source": [
    "### URL\n",
    "for the column 'URL' we can see that all the values like this 'https://www.lendingclub.com/browse/loanDetail.action?loan_id=48010226' with except change in the id part at the end of the URL also we can see that this id at the end is the same as the id column in the numeric data<br>Then there is no need for this column as it doesn't add value "
   ]
  },
  {
   "cell_type": "code",
   "execution_count": 549,
   "id": "1968ee1b",
   "metadata": {},
   "outputs": [
    {
     "data": {
      "text/plain": [
       "array(['https://www.lendingclub.com/browse/loanDetail.action?loan_id=48010226',\n",
       "       'https://www.lendingclub.com/browse/loanDetail.action?loan_id=57693261',\n",
       "       'https://www.lendingclub.com/browse/loanDetail.action?loan_id=59432726',\n",
       "       'https://www.lendingclub.com/browse/loanDetail.action?loan_id=53222800',\n",
       "       'https://www.lendingclub.com/browse/loanDetail.action?loan_id=57803010'],\n",
       "      dtype='<U69')"
      ]
     },
     "execution_count": 549,
     "metadata": {},
     "output_type": "execute_result"
    }
   ],
   "source": [
    "loan_data_string[:5,5]"
   ]
  },
  {
   "cell_type": "code",
   "execution_count": 550,
   "id": "bbae214c",
   "metadata": {},
   "outputs": [
    {
     "data": {
      "text/plain": [
       "array([48010226., 57693261., 59432726., 53222800., 57803010.])"
      ]
     },
     "execution_count": 550,
     "metadata": {},
     "output_type": "execute_result"
    }
   ],
   "source": [
    "loan_data_numeric[:5,0]"
   ]
  },
  {
   "cell_type": "code",
   "execution_count": 551,
   "id": "858c969f",
   "metadata": {},
   "outputs": [
    {
     "name": "stdout",
     "output_type": "stream",
     "text": [
      "['issue_d' 'loan_status' 'term' 'sub_grade' 'verification_status'\n",
      " 'addr_state']\n",
      "[['5' '1' '36' '13' '1' 'CA']\n",
      " ['0' '1' '36' '5' '1' 'NY']\n",
      " ['9' '1' '36' '10' '1' 'PA']\n",
      " ...\n",
      " ['6' '1' '36' '5' '1' 'CA']\n",
      " ['4' '1' '36' '17' '1' 'OH']\n",
      " ['12' '1' '36' '4' '0' 'IL']]\n"
     ]
    }
   ],
   "source": [
    "# the first 5 rows from URL column \n",
    "loan_data_string=np.delete(loan_data_string, 5, axis=1)\n",
    "loan_head_string=np.delete(loan_head_string, 5)\n",
    "print(loan_head_string)\n",
    "print(loan_data_string)"
   ]
  },
  {
   "cell_type": "markdown",
   "id": "97e13fe3",
   "metadata": {},
   "source": [
    "### State Address\n",
    "for column State Address I renamed to be more understandable. The values in that columns is the abbreviations of all the states in United States plus some missing values so<br>1- the first thing to do is to replace the missing values with 0<br> when examining the number of records for each state I found out that every state separately does not give any insights as the the number of records are very low so <br>2- it would be better to divide them into 4 catigories (states_west, states_south, states_midwest, states_east)"
   ]
  },
  {
   "cell_type": "code",
   "execution_count": 552,
   "id": "e2f7a233",
   "metadata": {},
   "outputs": [],
   "source": [
    "loan_head_string[-1]='state_address'"
   ]
  },
  {
   "cell_type": "code",
   "execution_count": 553,
   "id": "6a0be476",
   "metadata": {},
   "outputs": [],
   "source": [
    "# 1- the first thing to do is to replace the missing values with 0\n",
    "loan_data_string[:,5] = np.where(loan_data_string[:,5] == '', \n",
    "                                  0, \n",
    "                                  loan_data_string[:,5])"
   ]
  },
  {
   "cell_type": "code",
   "execution_count": 554,
   "id": "b7b05cc3",
   "metadata": {},
   "outputs": [],
   "source": [
    "states_west = np.array(['WA', 'OR','CA','NV','ID','MT', 'WY','UT','CO', 'AZ','NM','HI','AK'])\n",
    "states_south = np.array(['TX','OK','AR','LA','MS','AL','TN','KY','FL','GA','SC','NC','VA','WV','MD','DE','DC'])\n",
    "states_midwest = np.array(['ND','SD','NE','KS','MN','IA','MO','WI','IL','IN','MI','OH'])\n",
    "states_east = np.array(['PA','NY','NJ','CT','MA','VT','NH','ME','RI'])"
   ]
  },
  {
   "cell_type": "code",
   "execution_count": 555,
   "id": "e20eaa1f",
   "metadata": {},
   "outputs": [
    {
     "data": {
      "text/plain": [
       "array(['0', '1', '2', '3', '4'], dtype='<U69')"
      ]
     },
     "execution_count": 555,
     "metadata": {},
     "output_type": "execute_result"
    }
   ],
   "source": [
    "# 2- it would be better to divide them into 4 catigories (states_west, states_south, states_midwest, states_east)\n",
    "\n",
    "loan_data_string[:,-1] = np.where(np.isin(loan_data_string[:,-1], states_west), 1, loan_data_string[:,-1])\n",
    "loan_data_string[:,-1] = np.where(np.isin(loan_data_string[:,-1], states_south), 2, loan_data_string[:,-1])\n",
    "loan_data_string[:,-1] = np.where(np.isin(loan_data_string[:,-1], states_midwest), 3, loan_data_string[:,-1])\n",
    "loan_data_string[:,-1] = np.where(np.isin(loan_data_string[:,-1], states_east), 4, loan_data_string[:,-1])\n",
    "\n",
    "np.unique(loan_data_string[:,-1])"
   ]
  },
  {
   "cell_type": "markdown",
   "id": "9e496267",
   "metadata": {},
   "source": [
    "### checking"
   ]
  },
  {
   "cell_type": "code",
   "execution_count": 556,
   "id": "9d06acc6",
   "metadata": {},
   "outputs": [
    {
     "data": {
      "text/plain": [
       "array([['5', '1', '36', '13', '1', '1'],\n",
       "       ['0', '1', '36', '5', '1', '4'],\n",
       "       ['9', '1', '36', '10', '1', '4'],\n",
       "       ...,\n",
       "       ['6', '1', '36', '5', '1', '1'],\n",
       "       ['4', '1', '36', '17', '1', '3'],\n",
       "       ['12', '1', '36', '4', '0', '3']], dtype='<U69')"
      ]
     },
     "execution_count": 556,
     "metadata": {},
     "output_type": "execute_result"
    }
   ],
   "source": [
    "loan_data_string"
   ]
  },
  {
   "cell_type": "code",
   "execution_count": 557,
   "id": "5f24f9db",
   "metadata": {},
   "outputs": [
    {
     "data": {
      "text/plain": [
       "0"
      ]
     },
     "execution_count": 557,
     "metadata": {},
     "output_type": "execute_result"
    }
   ],
   "source": [
    "counter=0\n",
    "for i in loan_data_string.flatten():\n",
    "    if i=='':\n",
    "        counter+=1\n",
    "counter"
   ]
  },
  {
   "cell_type": "code",
   "execution_count": 558,
   "id": "b606cf9a",
   "metadata": {},
   "outputs": [
    {
     "data": {
      "text/plain": [
       "array([[ 5,  1, 36, 13,  1,  1],\n",
       "       [ 0,  1, 36,  5,  1,  4],\n",
       "       [ 9,  1, 36, 10,  1,  4],\n",
       "       ...,\n",
       "       [ 6,  1, 36,  5,  1,  1],\n",
       "       [ 4,  1, 36, 17,  1,  3],\n",
       "       [12,  1, 36,  4,  0,  3]])"
      ]
     },
     "execution_count": 558,
     "metadata": {},
     "output_type": "execute_result"
    }
   ],
   "source": [
    "loan_data_string=loan_data_string.astype(int)\n",
    "loan_data_string"
   ]
  },
  {
   "cell_type": "markdown",
   "id": "d515ea82",
   "metadata": {},
   "source": [
    "<hr style=\"border:5px solid #108999\"> </hr> \n",
    "\n",
    "\n",
    "# Numeric data processing"
   ]
  },
  {
   "cell_type": "markdown",
   "id": "4a2d0b94",
   "metadata": {},
   "source": [
    "Now its time to process the numeric Data which is the cloumns ['id', 'loan_amnt', 'funded_amnt', 'int_rate', 'installment',\n",
    "'total_pymnt']<br>through these following steps we can alter these columns so that we get an array with no missing values and ready for processing <br>1- replace missing values with vallues of the worest case scenario\n",
    "   "
   ]
  },
  {
   "cell_type": "code",
   "execution_count": 559,
   "id": "77bb89a0",
   "metadata": {},
   "outputs": [
    {
     "data": {
      "text/plain": [
       "array(['id', 'loan_amnt', 'funded_amnt', 'int_rate', 'installment',\n",
       "       'total_pymnt'], dtype='<U11')"
      ]
     },
     "execution_count": 559,
     "metadata": {},
     "output_type": "execute_result"
    }
   ],
   "source": [
    "loan_head_numeric"
   ]
  },
  {
   "cell_type": "markdown",
   "id": "ca7c3bed",
   "metadata": {},
   "source": [
    "### loan ID"
   ]
  },
  {
   "cell_type": "markdown",
   "id": "c0269480",
   "metadata": {},
   "source": [
    "from this line we can see that the first column 'ID' doesnt have any missing values as expected."
   ]
  },
  {
   "cell_type": "code",
   "execution_count": 560,
   "id": "797b2ef9",
   "metadata": {},
   "outputs": [
    {
     "data": {
      "text/plain": [
       "0"
      ]
     },
     "execution_count": 560,
     "metadata": {},
     "output_type": "execute_result"
    }
   ],
   "source": [
    "np.isnan(loan_data_numeric[:,0]).sum()"
   ]
  },
  {
   "cell_type": "markdown",
   "id": "ea716be4",
   "metadata": {},
   "source": [
    "### Loan Amount, Installments, Total Payments \n",
    "PS: the worest case scenario is to replace the messing values for Loaned Amount, Interest Rate, Total Payment and Installment with the maximum of these columns and the minimum of funded amount"
   ]
  },
  {
   "cell_type": "code",
   "execution_count": 561,
   "id": "3b85bf19",
   "metadata": {},
   "outputs": [
    {
     "data": {
      "text/plain": [
       "array([15273.46315789,    16.61729479,   440.92217918,  3143.85094094])"
      ]
     },
     "execution_count": 561,
     "metadata": {},
     "output_type": "execute_result"
    }
   ],
   "source": [
    "max=np.nanmax(loan_data_numeric[:,(1,3,4,5)], axis=0)\n",
    "np.nanmean(loan_data_numeric[:,[1,3,4,5]],axis=0)"
   ]
  },
  {
   "cell_type": "code",
   "execution_count": 562,
   "id": "3bde4e43",
   "metadata": {},
   "outputs": [
    {
     "data": {
      "text/plain": [
       "array([16259.79      ,    24.045867  ,   487.617775  ,  5082.33939389])"
      ]
     },
     "execution_count": 562,
     "metadata": {},
     "output_type": "execute_result"
    }
   ],
   "source": [
    "counter=0\n",
    "for i in [1,3,4,5]:\n",
    "    loan_data_numeric[:,i]= np.where(np.isnan(loan_data_numeric[:,i]),\n",
    "                               max[counter],\n",
    "                               loan_data_numeric[:,i])\n",
    "    counter+=1\n",
    "np.nanmean(loan_data_numeric[:,[1,3,4,5]],axis=0)"
   ]
  },
  {
   "cell_type": "code",
   "execution_count": 563,
   "id": "0fce0e82",
   "metadata": {},
   "outputs": [
    {
     "data": {
      "text/plain": [
       "array([0.1333, 0.2899, 0.2899, ..., 0.2899, 0.1655, 0.2899])"
      ]
     },
     "execution_count": 563,
     "metadata": {},
     "output_type": "execute_result"
    }
   ],
   "source": [
    "# to display the interest rate as a decimal value \n",
    "loan_data_numeric[:,3]=loan_data_numeric[:,3]/100\n",
    "loan_data_numeric[:,3]"
   ]
  },
  {
   "cell_type": "markdown",
   "id": "586879a6",
   "metadata": {},
   "source": [
    "### Funded Rate"
   ]
  },
  {
   "cell_type": "code",
   "execution_count": 564,
   "id": "efc8e876",
   "metadata": {},
   "outputs": [
    {
     "data": {
      "text/plain": [
       "500"
      ]
     },
     "execution_count": 564,
     "metadata": {},
     "output_type": "execute_result"
    }
   ],
   "source": [
    "np.isnan(loan_data_numeric[:,2]).sum()"
   ]
  },
  {
   "cell_type": "code",
   "execution_count": 565,
   "id": "2011f854",
   "metadata": {},
   "outputs": [
    {
     "data": {
      "text/plain": [
       "15311.042105263157"
      ]
     },
     "execution_count": 565,
     "metadata": {},
     "output_type": "execute_result"
    }
   ],
   "source": [
    "min=np.nanmin(loan_data_numeric[:,2])\n",
    "np.nanmean(loan_data_numeric[:,2])"
   ]
  },
  {
   "cell_type": "code",
   "execution_count": 566,
   "id": "1c8b29ed",
   "metadata": {},
   "outputs": [
    {
     "data": {
      "text/plain": [
       "14595.49"
      ]
     },
     "execution_count": 566,
     "metadata": {},
     "output_type": "execute_result"
    }
   ],
   "source": [
    "loan_data_numeric[:,2]= np.where(np.isnan(loan_data_numeric[:,2]),\n",
    "                               min,\n",
    "                               loan_data_numeric[:,2])\n",
    "np.nanmean(loan_data_numeric[:,2])"
   ]
  },
  {
   "cell_type": "markdown",
   "id": "f9682f8b",
   "metadata": {},
   "source": [
    "### The Exchange Rate\n",
    "here I used another dataset for the exchange (EUR - USD) it consists of 12 rows for 12 months of the year 2015 in which this loan data is collected.<br>so we want to create another column that contains the exchange rates for each loan and attach it to loan_data_neumeric array"
   ]
  },
  {
   "cell_type": "code",
   "execution_count": 567,
   "id": "e6afb4a8",
   "metadata": {},
   "outputs": [
    {
     "data": {
      "text/plain": [
       "array([1.1287955 , 1.12053609, 1.08302462, 1.11143219, 1.09603453,\n",
       "       1.12229669, 1.0939244 , 1.13400543, 1.12559378, 1.10089719,\n",
       "       1.05830181, 1.09339809])"
      ]
     },
     "execution_count": 567,
     "metadata": {},
     "output_type": "execute_result"
    }
   ],
   "source": [
    "EUR_USD = np.genfromtxt(\"D:\\\\Data Processing with Numpy\\\\EUR-USD.csv\", delimiter = ',', autostrip = True, skip_header = 1, usecols = 3)\n",
    "EUR_USD"
   ]
  },
  {
   "cell_type": "code",
   "execution_count": 568,
   "id": "5f55ba03",
   "metadata": {},
   "outputs": [
    {
     "data": {
      "text/plain": [
       "5"
      ]
     },
     "execution_count": 568,
     "metadata": {},
     "output_type": "execute_result"
    }
   ],
   "source": [
    "loan_data_string[0,0]"
   ]
  },
  {
   "cell_type": "code",
   "execution_count": 569,
   "id": "84618af5",
   "metadata": {},
   "outputs": [
    {
     "data": {
      "text/plain": [
       "array([1.09603453, 1.10568669, 1.12559378, ..., 1.12229669, 1.11143219,\n",
       "       1.09339809])"
      ]
     },
     "execution_count": 569,
     "metadata": {},
     "output_type": "execute_result"
    }
   ],
   "source": [
    "\n",
    "exchange_rate = loan_data_string[:,0]\n",
    "\n",
    "for i in range(1,13):\n",
    "    exchange_rate = np.where(exchange_rate == i,\n",
    "                             EUR_USD[i-1],\n",
    "                             exchange_rate)    \n",
    "\n",
    "exchange_rate = np.where(exchange_rate == 0,\n",
    "                         np.mean(EUR_USD),\n",
    "                         exchange_rate)\n",
    "\n",
    "exchange_rate"
   ]
  },
  {
   "cell_type": "code",
   "execution_count": 570,
   "id": "03e5f3ef",
   "metadata": {},
   "outputs": [
    {
     "data": {
      "text/plain": [
       "(10000,)"
      ]
     },
     "execution_count": 570,
     "metadata": {},
     "output_type": "execute_result"
    }
   ],
   "source": [
    "exchange_rate.shape"
   ]
  },
  {
   "cell_type": "code",
   "execution_count": 571,
   "id": "6a917891",
   "metadata": {},
   "outputs": [],
   "source": [
    "exchange_rate=np.reshape(exchange_rate,(10000,1))\n"
   ]
  },
  {
   "cell_type": "code",
   "execution_count": 572,
   "id": "8ce84334",
   "metadata": {},
   "outputs": [
    {
     "data": {
      "text/plain": [
       "array([1.09603453, 1.10568669, 1.12559378, ..., 1.12229669, 1.11143219,\n",
       "       1.09339809])"
      ]
     },
     "execution_count": 572,
     "metadata": {},
     "output_type": "execute_result"
    }
   ],
   "source": [
    "loan_data_numeric=np.hstack((loan_data_numeric,exchange_rate))\n",
    "loan_data_numeric[:,-1]"
   ]
  },
  {
   "cell_type": "code",
   "execution_count": 573,
   "id": "baf0802b",
   "metadata": {},
   "outputs": [],
   "source": [
    "loan_head_numeric=np.hstack((loan_head_numeric, np.array(['Exchange_Rate'])))"
   ]
  },
  {
   "cell_type": "code",
   "execution_count": 574,
   "id": "074e3986",
   "metadata": {},
   "outputs": [
    {
     "data": {
      "text/plain": [
       "array(['id', 'loan_amnt', 'funded_amnt', 'int_rate', 'installment',\n",
       "       'total_pymnt', 'Exchange_Rate'], dtype='<U13')"
      ]
     },
     "execution_count": 574,
     "metadata": {},
     "output_type": "execute_result"
    }
   ],
   "source": [
    "loan_head_numeric"
   ]
  },
  {
   "cell_type": "markdown",
   "id": "a80886ea",
   "metadata": {},
   "source": [
    "### from USD to EUR\n",
    "here we want to change the numerical values in columns (Loan amount, Installments, total payments, fund Rates) from USD to EUR using the newly attached column (exchange rate )"
   ]
  },
  {
   "cell_type": "code",
   "execution_count": 575,
   "id": "1cfd22cd",
   "metadata": {},
   "outputs": [
    {
     "data": {
      "text/plain": [
       "array([[31933.30058807, 31933.30058807,  1081.04258671,  8624.69180363],\n",
       "       [27132.45999286, 27132.45999286,   848.85709918,  4232.39243429],\n",
       "       [13326.29963573, 13326.29963573,   439.64350918,  1750.03632076],\n",
       "       ...,\n",
       "       [ 8910.29981708,  8910.29981708,  1223.35743399,  1947.47076922],\n",
       "       [31490.89990968,  8997.39997419,   318.77788109,  2878.62814774],\n",
       "       [ 9145.79973502,  9145.79973502,   283.49235439,   276.111694  ]])"
      ]
     },
     "execution_count": 575,
     "metadata": {},
     "output_type": "execute_result"
    }
   ],
   "source": [
    "counter=0\n",
    "EUR_amount=np.zeros((loan_data_numeric.shape[0],4))\n",
    "\n",
    "for i in [1,2,4,5]:\n",
    "    EUR_amount[:,counter]=loan_data_numeric[:,i]/loan_data_numeric[:,6]\n",
    "    counter+=1\n",
    "\n",
    "EUR_amount\n"
   ]
  },
  {
   "cell_type": "code",
   "execution_count": 576,
   "id": "9c20c125",
   "metadata": {},
   "outputs": [
    {
     "data": {
      "text/plain": [
       "(10000, 11)"
      ]
     },
     "execution_count": 576,
     "metadata": {},
     "output_type": "execute_result"
    }
   ],
   "source": [
    "loan_data_numeric=np.hstack((loan_data_numeric, EUR_amount))\n",
    "loan_data_numeric.shape"
   ]
  },
  {
   "cell_type": "code",
   "execution_count": 577,
   "id": "611446b3",
   "metadata": {},
   "outputs": [
    {
     "data": {
      "text/plain": [
       "array(['id', 'loan_amnt', 'funded_amnt', 'int_rate', 'installment',\n",
       "       'total_pymnt', 'Exchange_Rate', 'loan_amnt_EUR', 'funded_amnt_EUR',\n",
       "       'installment_EUR', 'total_pymnt_EUR'], dtype='<U15')"
      ]
     },
     "execution_count": 577,
     "metadata": {},
     "output_type": "execute_result"
    }
   ],
   "source": [
    "# adding EUR columns name to the header\n",
    "\n",
    "loan_head_numeric=np.hstack((loan_head_numeric,np.array([i+'_EUR' for i in loan_head_numeric[[1,2,4,5]]])))\n",
    "loan_head_numeric"
   ]
  },
  {
   "cell_type": "code",
   "execution_count": 578,
   "id": "0824a4aa",
   "metadata": {},
   "outputs": [
    {
     "data": {
      "text/plain": [
       "array(['id', 'loan_amnt_USD', 'funded_amnt_USD', 'int_rate',\n",
       "       'installment_USD', 'total_pymnt_USD', 'Exchange_Rate',\n",
       "       'loan_amnt_EUR', 'funded_amnt_EUR', 'installment_EUR',\n",
       "       'total_pymnt_EUR'], dtype='<U15')"
      ]
     },
     "execution_count": 578,
     "metadata": {},
     "output_type": "execute_result"
    }
   ],
   "source": [
    "# adding _USD to the columns name to specify their currency\n",
    "\n",
    "for i in [1,2,4,5]:\n",
    "    loan_head_numeric[i]+='_USD'\n",
    "loan_head_numeric"
   ]
  },
  {
   "cell_type": "code",
   "execution_count": 579,
   "id": "b55d8852",
   "metadata": {},
   "outputs": [
    {
     "data": {
      "text/plain": [
       "array(['id', 'loan_amnt_USD', 'loan_amnt_EUR', 'funded_amnt_USD',\n",
       "       'funded_amnt_EUR', 'int_rate', 'installment_USD',\n",
       "       'installment_EUR', 'total_pymnt_USD', 'total_pymnt_EUR',\n",
       "       'Exchange_Rate'], dtype='<U15')"
      ]
     },
     "execution_count": 579,
     "metadata": {},
     "output_type": "execute_result"
    }
   ],
   "source": [
    "# rearranging the columns\n",
    "columns_index_order = [0,1,7,2,8,3,4,9,5,10,6]\n",
    "loan_data_numeric=loan_data_numeric[:,columns_index_order]\n",
    "loan_head_numeric=loan_head_numeric[columns_index_order]\n",
    "loan_head_numeric"
   ]
  },
  {
   "cell_type": "markdown",
   "id": "38522b6b",
   "metadata": {},
   "source": [
    "<hr style=\"border:5px solid #108999\"> </hr> \n",
    "\n",
    "# Create the complete Dataset"
   ]
  },
  {
   "cell_type": "markdown",
   "id": "4070dede",
   "metadata": {},
   "source": [
    "what I will do here :<br>1- concatenate the headers (string, numeric)<br>2-concatenate the data columns<br>3- sort the records ascending depending on the id"
   ]
  },
  {
   "cell_type": "code",
   "execution_count": 580,
   "id": "4ecd4b07",
   "metadata": {},
   "outputs": [
    {
     "data": {
      "text/plain": [
       "array(['id', 'loan_amnt_USD', 'loan_amnt_EUR', 'funded_amnt_USD',\n",
       "       'funded_amnt_EUR', 'int_rate', 'installment_USD',\n",
       "       'installment_EUR', 'total_pymnt_USD', 'total_pymnt_EUR',\n",
       "       'Exchange_Rate', 'issue_d', 'loan_status', 'term', 'sub_grade',\n",
       "       'verification_status', 'state_address'], dtype='<U19')"
      ]
     },
     "execution_count": 580,
     "metadata": {},
     "output_type": "execute_result"
    }
   ],
   "source": [
    "# 1- concatenate the headers (string, numeric)\n",
    "loan_header=np.hstack((loan_head_numeric, loan_head_string))\n",
    "loan_header"
   ]
  },
  {
   "cell_type": "code",
   "execution_count": 581,
   "id": "43daac27",
   "metadata": {},
   "outputs": [
    {
     "data": {
      "text/plain": [
       "array([[48010226.        ,    35000.        ,    31933.30058807, ...,\n",
       "              13.        ,        1.        ,        1.        ],\n",
       "       [57693261.        ,    30000.        ,    27132.45999286, ...,\n",
       "               5.        ,        1.        ,        4.        ],\n",
       "       [59432726.        ,    15000.        ,    13326.29963573, ...,\n",
       "              10.        ,        1.        ,        4.        ],\n",
       "       ...,\n",
       "       [50415990.        ,    10000.        ,     8910.29981708, ...,\n",
       "               5.        ,        1.        ,        1.        ],\n",
       "       [46154151.        ,    35000.        ,    31490.89990968, ...,\n",
       "              17.        ,        1.        ,        3.        ],\n",
       "       [66055249.        ,    10000.        ,     9145.79973502, ...,\n",
       "               4.        ,        0.        ,        3.        ]])"
      ]
     },
     "execution_count": 581,
     "metadata": {},
     "output_type": "execute_result"
    }
   ],
   "source": [
    "# 2-concatenate the data columns\n",
    "\n",
    "loan_data=np.hstack((loan_data_numeric, loan_data_string))\n",
    "loan_data"
   ]
  },
  {
   "cell_type": "code",
   "execution_count": 582,
   "id": "caf2145a",
   "metadata": {},
   "outputs": [
    {
     "data": {
      "text/plain": [
       "array([[  373332.        ,     9950.        ,     9038.08281434, ...,\n",
       "              21.        ,        0.        ,        1.        ],\n",
       "       [  575239.        ,    12000.        ,    10900.2003791 , ...,\n",
       "              25.        ,        1.        ,        2.        ],\n",
       "       [  707689.        ,    10000.        ,     8924.29980495, ...,\n",
       "              13.        ,        1.        ,        0.        ],\n",
       "       ...,\n",
       "       [68614880.        ,     5600.        ,     5121.64785161, ...,\n",
       "               8.        ,        1.        ,        1.        ],\n",
       "       [68615915.        ,     4000.        ,     3658.31989401, ...,\n",
       "              10.        ,        1.        ,        2.        ],\n",
       "       [68616519.        ,    21600.        ,    19754.92742765, ...,\n",
       "               3.        ,        0.        ,        2.        ]])"
      ]
     },
     "execution_count": 582,
     "metadata": {},
     "output_type": "execute_result"
    }
   ],
   "source": [
    "# 3- sort the records ascending depending on the id\n",
    "\n",
    "loan_data=loan_data[np.argsort(loan_data[:,0]),:]\n",
    "loan_data"
   ]
  },
  {
   "cell_type": "code",
   "execution_count": 583,
   "id": "324a32f6",
   "metadata": {},
   "outputs": [
    {
     "data": {
      "text/plain": [
       "(1, 17)"
      ]
     },
     "execution_count": 583,
     "metadata": {},
     "output_type": "execute_result"
    }
   ],
   "source": [
    "loan_header=loan_header.reshape((1,17))\n",
    "loan_header.shape"
   ]
  },
  {
   "cell_type": "code",
   "execution_count": 584,
   "id": "13d54272",
   "metadata": {},
   "outputs": [
    {
     "data": {
      "text/plain": [
       "array([['id', 'loan_amnt_USD', 'loan_amnt_EUR', ..., 'sub_grade',\n",
       "        'verification_status', 'state_address'],\n",
       "       ['373332.0', '9950.0', '9038.082814338286', ..., '21.0', '0.0',\n",
       "        '1.0'],\n",
       "       ['575239.0', '12000.0', '10900.20037910145', ..., '25.0', '1.0',\n",
       "        '2.0'],\n",
       "       ...,\n",
       "       ['68614880.0', '5600.0', '5121.647851612413', ..., '8.0', '1.0',\n",
       "        '1.0'],\n",
       "       ['68615915.0', '4000.0', '3658.319894008867', ..., '10.0', '1.0',\n",
       "        '2.0'],\n",
       "       ['68616519.0', '21600.0', '19754.927427647883', ..., '3.0', '0.0',\n",
       "        '2.0']], dtype='<U32')"
      ]
     },
     "execution_count": 584,
     "metadata": {},
     "output_type": "execute_result"
    }
   ],
   "source": [
    "loan_data_Final=np.vstack((loan_header, loan_data))\n",
    "loan_data_Final"
   ]
  },
  {
   "cell_type": "code",
   "execution_count": 585,
   "id": "89cc76ac",
   "metadata": {
    "scrolled": true
   },
   "outputs": [],
   "source": [
    "np.savetxt(\"D:\\\\Data Processing with Numpy\\\\loan-data-preprocessed.csv\", \n",
    "           loan_data_Final, \n",
    "           fmt = '%s',\n",
    "           delimiter = ',')"
   ]
  },
  {
   "cell_type": "code",
   "execution_count": null,
   "id": "9e981e75",
   "metadata": {},
   "outputs": [],
   "source": []
  }
 ],
 "metadata": {
  "kernelspec": {
   "display_name": "Python 3 (ipykernel)",
   "language": "python",
   "name": "python3"
  },
  "language_info": {
   "codemirror_mode": {
    "name": "ipython",
    "version": 3
   },
   "file_extension": ".py",
   "mimetype": "text/x-python",
   "name": "python",
   "nbconvert_exporter": "python",
   "pygments_lexer": "ipython3",
   "version": "3.9.12"
  }
 },
 "nbformat": 4,
 "nbformat_minor": 5
}
